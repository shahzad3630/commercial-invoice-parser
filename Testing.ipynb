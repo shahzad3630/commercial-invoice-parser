{
 "cells": [
  {
   "cell_type": "code",
   "execution_count": 1,
   "metadata": {
    "id": "Qwtoiy8DT4Wk"
   },
   "outputs": [],
   "source": [
    "import os, sys\n",
    "\n",
    "from invoice import Invoice"
   ]
  },
  {
   "cell_type": "code",
   "execution_count": 2,
   "metadata": {
    "colab": {
     "base_uri": "https://localhost:8080/"
    },
    "id": "8nSBZxBYt0Uk",
    "outputId": "b813fd9e-33a5-4438-faf0-663bba50332c"
   },
   "outputs": [
    {
     "data": {
      "text/plain": [
       "['S_PSO-E96_16072121220.pdf',\n",
       " '5712_-_N.R_Agarwal_-_INOVICE_79.320.pdf',\n",
       " 'DEEP_PLAST_49.896.pdf']"
      ]
     },
     "execution_count": 2,
     "metadata": {
      "tags": []
     },
     "output_type": "execute_result"
    }
   ],
   "source": [
    "folder=\"doc_fol\"\n",
    "ll=os.listdir(folder)\n",
    "ll"
   ]
  },
  {
   "cell_type": "code",
   "execution_count": 4,
   "metadata": {
    "colab": {
     "base_uri": "https://localhost:8080/"
    },
    "id": "17X5uotht3ix",
    "outputId": "b2e5b77b-3210-4219-b2b7-5605da93975e"
   },
   "outputs": [
    {
     "name": "stdout",
     "output_type": "stream",
     "text": [
      "********************\n",
      "pytesseract text extraction operation going ...\n",
      "text extraction Done\n",
      "\n",
      "document name\t:\t S_PSO-E96_16072121220.pdf\n",
      "Invoice issuer\t:\t HANDELSRECHNUNGJC OMMERCIA“L INVOICE\n",
      "Invoice number\t:\t 00000600627\n",
      "Invoice date\t:\t 2016/07/21\n",
      "Invoice amount\t:\t 30544.48\n",
      "\n",
      "\n",
      "********************\n",
      "pytesseract text extraction operation going ...\n",
      "text extraction Done\n",
      "\n",
      "document name\t:\t 5712_-_N.R_Agarwal_-_INOVICE_79.320.pdf\n",
      "Invoice issuer\t:\t Alpha Emirates La\n",
      "Invoice number\t:\t 5712\n",
      "Invoice date\t:\t 28/08/2016\n",
      "Invoice amount\t:\t 16260.6\n",
      "\n",
      "\n",
      "********************\n",
      "pytesseract text extraction operation going ...\n",
      "text extraction Done\n",
      "\n",
      "document name\t:\t DEEP_PLAST_49.896.pdf\n",
      "Invoice issuer\t:\t ExxonMobil Chemical Asia Pacific\n",
      "Invoice number\t:\t 98808167\n",
      "Invoice date\t:\t 2016-09-01\n",
      "Invoice amount\t:\t 62370.0\n",
      "\n",
      "\n"
     ]
    }
   ],
   "source": [
    "for name in ll:\n",
    "    print(\"*\"*20)\n",
    "\n",
    "    doc_path=os.path.join(folder, name)\n",
    "    ob=Invoice(doc_path)\n",
    "\n",
    "    num=ob.get_invoice_no()\n",
    "    date=ob.get_invoice_date()\n",
    "    amt=ob.get_invoice_amount()\n",
    "    issuer=ob.get_invoice_issuer()\n",
    "\n",
    "    print(\"\\ndocument name\\t:\\t\", name)\n",
    "    print(\"Invoice issuer\\t:\\t\", issuer)\n",
    "    print(\"Invoice number\\t:\\t\", num)\n",
    "    print(\"Invoice date\\t:\\t\", date)\n",
    "    print(\"Invoice amount\\t:\\t\", amt)\n",
    "    print(\"\\n\")\n",
    "\n"
   ]
  },
  {
   "cell_type": "code",
   "execution_count": null,
   "metadata": {
    "id": "TVAWaxfPvHtB"
   },
   "outputs": [],
   "source": []
  }
 ],
 "metadata": {
  "colab": {
   "collapsed_sections": [],
   "name": "github code.ipynb",
   "provenance": []
  },
  "kernelspec": {
   "display_name": "Python 3",
   "language": "python",
   "name": "python3"
  },
  "language_info": {
   "codemirror_mode": {
    "name": "ipython",
    "version": 3
   },
   "file_extension": ".py",
   "mimetype": "text/x-python",
   "name": "python",
   "nbconvert_exporter": "python",
   "pygments_lexer": "ipython3",
   "version": "3.8.5"
  }
 },
 "nbformat": 4,
 "nbformat_minor": 1
}
